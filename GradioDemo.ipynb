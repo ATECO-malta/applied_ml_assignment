{
 "cells": [
  {
   "cell_type": "code",
   "execution_count": 1,
   "id": "f90adb3c",
   "metadata": {},
   "outputs": [],
   "source": [
    "#RANDOM FOREST MODEL\n",
    "\n",
    "import numpy as np\n",
    "import pandas as pd\n",
    "from matplotlib.dates import MonthLocator, DateFormatter\n",
    "import joblib\n",
    "from sklearn.ensemble import RandomForestRegressor\n",
    "\n",
    "mytrainingdata = pd.read_csv('train_data_augmented.csv',index_col=0) #added index\n",
    "mytestdata = pd.read_csv('test_data_augmented.csv',index_col=0) #added index\n",
    "\n",
    "\n",
    "#The input features\n",
    "X_train = mytrainingdata.drop(['Max_Demand_GW','Plant_Production_GWh'],axis = 1)\n",
    "y_train = mytrainingdata['Max_Demand_GW']\n",
    "y_test = mytestdata['Max_Demand_GW']\n",
    "X_test = mytestdata.drop(['Max_Demand_GW','Plant_Production_GWh'],axis = 1)\n",
    "\n",
    "\n",
    "# Random Forest Model\n",
    "from sklearn.ensemble import RandomForestRegressor\n",
    "from sklearn.metrics import mean_absolute_error, mean_squared_error,explained_variance_score,r2_score\n",
    "\n",
    "#Instantiate the model\n",
    "model = RandomForestRegressor(n_estimators = 70,bootstrap = False, max_depth = 10, min_samples_leaf = 1, min_samples_split = 2, random_state = 30)\n",
    "\n",
    "#n_estimators = number of trees\n",
    "#random_state = random seed for reproducibility\n",
    "\n",
    "#Fitting the rf model to the training data\n",
    "fitted_rf = model.fit(X_train, y_train)\n",
    "\n",
    "\n",
    "\n",
    "#EXPORT MODEL AS JOBLIB\n",
    "\n",
    "# Save the model to a file using joblib\n",
    "joblib.dump(model, 'random_forest_model.joblib')\n",
    "\n",
    "# Now you can load the model later using the following:\n",
    "loaded_model = joblib.load('random_forest_model.joblib')\n",
    "\n",
    "# Now 'loaded_model' is ready to be used in Gradio or for making predictions\n"
   ]
  },
  {
   "cell_type": "code",
   "execution_count": 5,
   "id": "99ff5da7",
   "metadata": {},
   "outputs": [
    {
     "name": "stdout",
     "output_type": "stream",
     "text": [
      "Running on local URL:  http://127.0.0.1:7888\n",
      "\n",
      "To create a public link, set `share=True` in `launch()`.\n"
     ]
    },
    {
     "data": {
      "text/html": [
       "<div><iframe src=\"http://127.0.0.1:7888/\" width=\"100%\" height=\"500\" allow=\"autoplay; camera; microphone; clipboard-read; clipboard-write;\" frameborder=\"0\" allowfullscreen></iframe></div>"
      ],
      "text/plain": [
       "<IPython.core.display.HTML object>"
      ]
     },
     "metadata": {},
     "output_type": "display_data"
    },
    {
     "data": {
      "text/plain": []
     },
     "execution_count": 5,
     "metadata": {},
     "output_type": "execute_result"
    }
   ],
   "source": [
    "#GRADIO\n",
    "\n",
    "import gradio as gr\n",
    "import joblib\n",
    "import numpy as np\n",
    "import csv\n",
    "\n",
    "# Load pre-trained models\n",
    "random_forest_model = joblib.load('random_forest_model.joblib')\n",
    "#decision_tree_model = joblib.load('decision_tree_model.joblib')\n",
    "#svm_model = joblib.load('svm_model.joblib')\n",
    "#linear_regression_model = joblib.load('linear_regression_model.joblib')\n",
    "#neural_network_model = joblib.load('neural_network_model.joblib')\n",
    "\n",
    "# Read examples from CSV\n",
    "csv_file = 'test_data_augmented.csv'\n",
    "\n",
    "with open(csv_file, 'r') as file:\n",
    "    reader = csv.reader(file)\n",
    "    data_from_csv = [row[3:] for row in reader]\n",
    "\n",
    "# Add the last column as 'Random Forest' NEED TO CHANGE THIS ONCE OTHER MODELS ARE ADDED\n",
    "data_with_model_type = [row + ['Random Forest'] for row in data_from_csv]\n",
    "\n",
    "\n",
    "# Function to generate prediction\n",
    "def generate_prediction(imports, renewables_production, powerplants_c02, gdp, population,tmin,tavg,tmax,model_type):\n",
    "    # Perform prediction using the selected model_type\n",
    "    if model_type == 'Random Forest':\n",
    "        model = random_forest_model\n",
    "    #elif model_type == 'Decision Tree':\n",
    "    #   model = decision_tree_model\n",
    "    #elif model_type == 'SVM':\n",
    "        #model = svm_model\n",
    "    #elif model_type == 'Linear Regression':\n",
    "        #model = linear_regression_model\n",
    "    #elif model_type == 'Neural Network':\n",
    "        #model = neural_network_model\n",
    "    else:\n",
    "        model = None  # Default\n",
    "    \n",
    "    if model is not None:\n",
    "        input_data = np.array([[imports, renewables_production, powerplants_c02, gdp, population,tmin,tavg,tmax]])\n",
    "        prediction = model.predict(input_data)[0]\n",
    "    else:\n",
    "        prediction = 0  # Default\n",
    "\n",
    "    # Return the prediction as a number\n",
    "    return prediction\n",
    "    \n",
    "\n",
    "# Gradio interface\n",
    "iface = gr.Interface(\n",
    "    fn=generate_prediction,\n",
    "    inputs=[\n",
    "        \"number\",\"number\", \"number\", \"number\", \"number\", \"number\", \"number\", \"number\",\n",
    "        gr.Dropdown(choices=['Random Forest'], label=\"Select Model\")\n",
    "    ],\n",
    "    outputs=\"number\",\n",
    "    live=True,\n",
    "    title=\"Max Demand Prediction\",\n",
    "    description=\"Enter features and select model to get the predicted Max Demand.\",\n",
    "    examples=data_with_model_type\n",
    ")\n",
    "\n",
    "# Launch the Gradio interface\n",
    "iface.launch()\n"
   ]
  },
  {
   "cell_type": "markdown",
   "id": "7be940b4",
   "metadata": {},
   "source": [
    "- User can choose options from the examples - which are all the test data\n",
    "\n",
    "- For now outputting max demand as a number instead of a graph. WILL NEED TO ADD THE DATE TO THE EXAMPLES TO BE ABLE TO SHOW THEM ON THE GRAPH. What date would the prediction be? Shall we ask for date input?\n",
    "\n",
    "\n",
    "\n",
    "Work to do:\n",
    "    \n",
    "- CAN SHOW THE OUTPUTS FOR DIFFERENT MODELS UNDER EACH OTHER\n",
    "\n",
    "\n",
    "- Need the inputs each model works with - e.g. mine needs all features, what do the others need\n",
    "\n",
    "- Need to get joblibs for each model.\n",
    "\n",
    "- Finalise interface - add sliders, maybe template, etc\n",
    "\n",
    "- ADD VALIDATION FOR USER INPUT\n",
    "\n"
   ]
  }
 ],
 "metadata": {
  "kernelspec": {
   "display_name": "Python 3 (ipykernel)",
   "language": "python",
   "name": "python3"
  },
  "language_info": {
   "codemirror_mode": {
    "name": "ipython",
    "version": 3
   },
   "file_extension": ".py",
   "mimetype": "text/x-python",
   "name": "python",
   "nbconvert_exporter": "python",
   "pygments_lexer": "ipython3",
   "version": "3.8.18"
  }
 },
 "nbformat": 4,
 "nbformat_minor": 5
}
