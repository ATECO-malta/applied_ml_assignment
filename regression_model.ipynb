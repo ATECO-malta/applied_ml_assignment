{
 "cells": [
  {
   "cell_type": "code",
   "execution_count": 10,
   "metadata": {},
   "outputs": [],
   "source": [
    "import numpy as np\n",
    "import matplotlib.pyplot as plt\n",
    "import pandas as pd\n",
    "from sklearn.linear_model import LinearRegression\n",
    "from sklearn.metrics import mean_absolute_error, mean_squared_error"
   ]
  },
  {
   "cell_type": "code",
   "execution_count": 11,
   "metadata": {},
   "outputs": [],
   "source": [
    "# Importing cleaned datasets\n",
    "training_data = pd.read_csv(\"data/train_data.csv\")\n",
    "test_data = pd.read_csv(\"data/test_data.csv\")"
   ]
  },
  {
   "cell_type": "code",
   "execution_count": 12,
   "metadata": {},
   "outputs": [],
   "source": [
    "# Splitting the features and the target for datasets\n",
    "features = [\"Plant_Production_GWh\", \"Population_k\", \"tmax\"]\n",
    "target = [\"Max_Demand_GW\"]\n",
    "\n",
    "x_train = training_data[features]\n",
    "y_train = training_data[target]\n",
    "\n",
    "x_test = test_data[features]\n",
    "y_test = test_data[target]"
   ]
  },
  {
   "cell_type": "code",
   "execution_count": null,
   "metadata": {},
   "outputs": [],
   "source": [
    "# Linear Regression\n",
    "linear_regression = LinearRegression()\n",
    "linear_regression.fit(x_train, y_train)"
   ]
  },
  {
   "cell_type": "code",
   "execution_count": null,
   "metadata": {},
   "outputs": [],
   "source": [
    "# Make predictions on the test dataset\n",
    "y_test_prediction = linear_regression.predict(x_test)\n",
    "\n",
    "# Evaluate the model on the test dataset\n",
    "mse_test = mean_squared_error(y_test, y_test_prediction)\n",
    "print(f\"Mean Squared Error on Test Set: {mse_test}\")\n",
    "mae_test= mean_absolute_error(y_test, y_test_prediction)\n",
    "print(f\"Mean Absolute Error on Test Set: {mae_test}\")"
   ]
  },
  {
   "cell_type": "code",
   "execution_count": null,
   "metadata": {},
   "outputs": [],
   "source": [
    "# Generate data for the ideal line (y = x)\n",
    "x_ideal = np.linspace(y_test.min(), y_test.max(), 100)\n",
    "y_ideal = x_ideal\n",
    "\n",
    "# Plotting the actual vs predicted values on the test set\n",
    "plt.scatter(y_test, y_test_prediction, label=\"Actual vs Predicted\")\n",
    "plt.plot(x_ideal, y_ideal, color=\"red\", label=\"Ideal Line\", linestyle='--')\n",
    "plt.title(\"Actual vs Predicted Values on Validation Dataset\")\n",
    "plt.xlabel(\"Actual Values\")\n",
    "plt.ylabel(\"Predicted Values\")\n",
    "plt.legend()\n",
    "plt.show()"
   ]
  },
  {
   "cell_type": "code",
   "execution_count": null,
   "metadata": {},
   "outputs": [],
   "source": [
    "# Calculating the MAPE on the Validation dataset\n",
    "def mean_absolute_percentage_error(actual, predictions): \n",
    "    actual, predictions = np.array(actual), np.array(predictions)\n",
    "    return np.mean(np.abs((actual - predictions) / actual)) * 100\n",
    "\n",
    "mape = mean_absolute_percentage_error(y_test, y_test_prediction)\n",
    "print(f'\\nMAPE on test dataset: {mape:.2f}%')"
   ]
  },
  {
   "cell_type": "code",
   "execution_count": null,
   "metadata": {},
   "outputs": [],
   "source": [
    "# Plot predictions vs actual values\n",
    "plt.figure(figsize=(12,6))\n",
    "plt.plot(test_data[\"Date\"], test_data[\"Max_Demand_GW\"], color=\"blue\", label=\"True Values\")\n",
    "plt.plot(test_data[\"Date\"], y_test_prediction, color=\"red\", label=\"Predictions\")\n",
    "plt.xticks(rotation=90)\n",
    "plt.xlabel(\"Date\")\n",
    "plt.ylabel(\"Max_Demand_GW\")\n",
    "plt.legend()\n",
    "plt.show()"
   ]
  }
 ],
 "metadata": {
  "kernelspec": {
   "display_name": "aml",
   "language": "python",
   "name": "python3"
  },
  "language_info": {
   "codemirror_mode": {
    "name": "ipython",
    "version": 3
   },
   "file_extension": ".py",
   "mimetype": "text/x-python",
   "name": "python",
   "nbconvert_exporter": "python",
   "pygments_lexer": "ipython3",
   "version": "3.10.13"
  }
 },
 "nbformat": 4,
 "nbformat_minor": 2
}
