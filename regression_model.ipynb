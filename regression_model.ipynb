{
 "cells": [
  {
   "cell_type": "code",
   "execution_count": 1,
   "metadata": {},
   "outputs": [],
   "source": [
    "import numpy as np\n",
    "import matplotlib.pyplot as plt\n",
    "import pandas as pd\n",
    "import statsmodels.api as sm\n",
    "from sklearn.preprocessing import PolynomialFeatures\n",
    "from sklearn.linear_model import LinearRegression\n",
    "from sklearn.metrics import mean_absolute_error, mean_squared_error"
   ]
  },
  {
   "cell_type": "code",
   "execution_count": 2,
   "metadata": {},
   "outputs": [],
   "source": [
    "# Importing cleaned datasets\n",
    "training_data = pd.read_csv(\"data/train_data.csv\")\n",
    "test_data = pd.read_csv(\"data/test_data.csv\")\n",
    "validation_data = pd.read_csv(\"data/validate_data.csv\")"
   ]
  },
  {
   "cell_type": "code",
   "execution_count": 3,
   "metadata": {},
   "outputs": [],
   "source": [
    "# Splitting the features and the target for datasets\n",
    "features = [\"Plant_Production_GWh\", \"Population_k\", \"tmax\"]\n",
    "target = [\"Max_Demand_GW\"]\n",
    "\n",
    "x_train = training_data[features]\n",
    "y_train = training_data[target]\n",
    "\n",
    "x_test = test_data[features]\n",
    "y_test = test_data[target]\n",
    "\n",
    "x_validate = validation_data[features]\n",
    "y_validate = validation_data[target]"
   ]
  },
  {
   "cell_type": "code",
   "execution_count": 4,
   "metadata": {},
   "outputs": [],
   "source": [
    "# Adding polynomial features\n",
    "# Degree is equal to 2 because 2 is the polynomial degree\n",
    "degree = 2\n",
    "\n",
    "poly = PolynomialFeatures(degree=degree)\n",
    "\n",
    "x_train_poly = poly.fit_transform(x_train)\n",
    "x_test_poly = poly.transform(x_test)\n",
    "x_validate_poly = poly.transform(x_validate)"
   ]
  },
  {
   "cell_type": "code",
   "execution_count": null,
   "metadata": {},
   "outputs": [],
   "source": [
    "# Create and train the polynomial regression model\n",
    "poly_regression_model = LinearRegression()\n",
    "poly_regression_model.fit(x_train_poly, y_train)"
   ]
  },
  {
   "cell_type": "code",
   "execution_count": null,
   "metadata": {},
   "outputs": [],
   "source": [
    "# Make predictions on the test dataset\n",
    "y_test_prediction = poly_regression_model.predict(x_test_poly)\n",
    "# Evaluate the model on the test dataset\n",
    "mse_test = mean_squared_error(y_test, y_test_prediction)\n",
    "print(f\"Mean Squared Error on Test Set: {mse_test}\")\n",
    "mae_test= mean_absolute_error(y_test, y_test_prediction)\n",
    "print(f\"Mean Absolute Error on Test Set: {mae_test}\")\n",
    "\n",
    "print(\"\\n\")\n",
    "\n",
    "# Make predictions on the validation dataset\n",
    "y_validate_prediction = poly_regression_model.predict(x_validate_poly)\n",
    "# Evaluate the model on the validation dataset\n",
    "mse_validation = mean_squared_error(y_validate, y_validate_prediction)\n",
    "print(f\"Mean Squared Error on Validation Set: {mse_validation}\")\n",
    "mae_validation = mean_absolute_error(y_validate, y_validate_prediction)\n",
    "print(f\"Mean Absolute Error on Validation Set: {mae_validation}\")"
   ]
  },
  {
   "cell_type": "code",
   "execution_count": null,
   "metadata": {},
   "outputs": [],
   "source": [
    "# Generate data for the ideal line (y = x)\n",
    "x_ideal = np.linspace(y_validate.min(), y_validate.max(), 100)\n",
    "y_ideal = x_ideal\n",
    "\n",
    "# Plotting the actual vs predicted values on the test set\n",
    "plt.scatter(y_validate, y_validate_prediction, label=\"Actual vs Predicted\")\n",
    "plt.plot(x_ideal, y_ideal, color=\"red\", label=\"Ideal Line\", linestyle='--')\n",
    "plt.title(\"Actual vs Predicted Values on Validation Dataset\")\n",
    "plt.xlabel(\"Actual Values\")\n",
    "plt.ylabel(\"Predicted Values\")\n",
    "plt.legend()\n",
    "plt.show()"
   ]
  },
  {
   "cell_type": "code",
   "execution_count": null,
   "metadata": {},
   "outputs": [],
   "source": [
    "# Calculating the MAPE on the Validation dataset\n",
    "def mean_absolute_percentage_error(actual, predictions): \n",
    "    actual, predictions = np.array(actual), np.array(predictions)\n",
    "    return np.mean(np.abs((actual - predictions) / actual)) * 100\n",
    "\n",
    "mape = mean_absolute_percentage_error(y_validate, y_validate_prediction)\n",
    "print(f'\\nMAPE on validation dataset: {mape:.2f}%')"
   ]
  },
  {
   "cell_type": "code",
   "execution_count": null,
   "metadata": {},
   "outputs": [],
   "source": [
    "# T-Test - Generated\n",
    "x_train_poly_intercept = sm.add_constant(x_train_poly)\n",
    "sm_model = sm.OLS(y_train, x_train_poly_intercept).fit()\n",
    "print(sm_model.summary())"
   ]
  }
 ],
 "metadata": {
  "kernelspec": {
   "display_name": "aml",
   "language": "python",
   "name": "python3"
  },
  "language_info": {
   "codemirror_mode": {
    "name": "ipython",
    "version": 3
   },
   "file_extension": ".py",
   "mimetype": "text/x-python",
   "name": "python",
   "nbconvert_exporter": "python",
   "pygments_lexer": "ipython3",
   "version": "3.10.13"
  }
 },
 "nbformat": 4,
 "nbformat_minor": 2
}
