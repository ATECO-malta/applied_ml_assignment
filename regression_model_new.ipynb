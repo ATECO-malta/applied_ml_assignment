{
 "cells": [
  {
   "cell_type": "code",
   "execution_count": 1,
   "metadata": {},
   "outputs": [],
   "source": [
    "import numpy as np\n",
    "import matplotlib.pyplot as plt\n",
    "import pandas as pd\n",
    "import seaborn as sns\n",
    "from sklearn.linear_model import LinearRegression\n",
    "from sklearn.metrics import mean_absolute_error, mean_squared_error, r2_score\n",
    "from sklearn.preprocessing import PolynomialFeatures"
   ]
  },
  {
   "cell_type": "code",
   "execution_count": 2,
   "metadata": {},
   "outputs": [],
   "source": [
    "# Loading datasets\n",
    "training_data = pd.read_csv(\"data/train_data.csv\")\n",
    "test_data = pd.read_csv(\"data/test_data.csv\")"
   ]
  },
  {
   "cell_type": "markdown",
   "metadata": {},
   "source": [
    "**Correlation Evaluation**  \n",
    "  \n",
    "The .corr() function alone was used to determine whether the correlation between the target and the feature variables is linear.  \n",
    "To evaluate if the correlation between the feature and target variables is quadratic/non-linear, apart from the .corr() function, the feature variables where squared. Generative AI was used here. Below is the prompt.  \n",
    "ChatGPT prompt: *Correlation analysis for quadratic relationship between feature vs target*"
   ]
  },
  {
   "cell_type": "code",
   "execution_count": null,
   "metadata": {},
   "outputs": [],
   "source": [
    "# Combine dataset to see correlation between features & targets\n",
    "full_dataset = pd.concat([training_data, test_data], ignore_index=True)\n",
    "\n",
    "correlation = full_dataset[\"tavg\"].corr(full_dataset[\"Max_Demand_GW\"])\n",
    "print(f\"Linear Correlation of Average Temp. vs Max_Demand_GW: {correlation}\")\n",
    "\n",
    "correlation = full_dataset[\"Population_k\"].corr(full_dataset[\"Max_Demand_GW\"])\n",
    "print(f\"Linear Correlation of Population vs Max_Demand_GW: {correlation}\")\n",
    "\n",
    "correlation = (full_dataset[\"tavg\"] ** 2).corr(full_dataset[\"Max_Demand_GW\"])\n",
    "print(f\"Non-linear Correlation of Average Temp. vs Max_Demand_GW: {correlation}\")\n",
    "\n",
    "correlation = (full_dataset[\"Population_k\"] ** 2).corr(full_dataset[\"Max_Demand_GW\"])\n",
    "print(f\"Non-linear Correlation of Population vs Max_Demand_GW: {correlation}\")"
   ]
  },
  {
   "cell_type": "markdown",
   "metadata": {},
   "source": [
    "**Data Visualisation**  \n",
    "  \n",
    "After the above correlations did not show clear indications whether the correlation between the feature and target is linear or non-linear, scatter plots were used to evaluate better the correlation between the feature and target variables."
   ]
  },
  {
   "cell_type": "code",
   "execution_count": null,
   "metadata": {},
   "outputs": [],
   "source": [
    "# Visualise to help determine wether relationships are quadratic or linear\n",
    "fig, axes = plt.subplots(1, 2, figsize=(12, 5))\n",
    "\n",
    "sns.scatterplot(x=\"tavg\", y=\"Max_Demand_GW\", data=full_dataset, ax=axes[0])\n",
    "axes[0].set_title(\"Scatter Plot of Average Temperature vs Max_Demand_GW\")\n",
    "\n",
    "sns.scatterplot(x=\"Population_k\", y=\"Max_Demand_GW\", data=full_dataset, ax=axes[1])\n",
    "axes[1].set_title(\"Scatter Plot of Population vs Max_Demand_GW\")\n",
    "\n",
    "plt.tight_layout()\n",
    "plt.show()"
   ]
  },
  {
   "cell_type": "markdown",
   "metadata": {},
   "source": [
    "**Evaluating Models' Performances**  \n",
    "  \n",
    "Links used:  \n",
    "https://scikit-learn.org/stable/modules/generated/sklearn.preprocessing.PolynomialFeatures.html  \n",
    "https://www.kaggle.com/code/lxlz1986/polynomial-regression-in-scikit-learn"
   ]
  },
  {
   "cell_type": "code",
   "execution_count": null,
   "metadata": {},
   "outputs": [],
   "source": [
    "# Linear model\n",
    "features = [\"Population_k\", \"tavg\"]\n",
    "targets = [\"Max_Demand_GW\"]\n",
    "\n",
    "linear_model = LinearRegression()\n",
    "linear_model.fit(training_data[features], training_data[targets])\n",
    "\n",
    "linear_model_max_demand_predictions = linear_model.predict(test_data[features])\n",
    "\n",
    "print(f\"Linear model R2 score: {r2_score(test_data[targets], linear_model_max_demand_predictions)}\")\n",
    "\n",
    "# Non-Linear model\n",
    "polynomial_features = PolynomialFeatures(degree=2)\n",
    "\n",
    "x_train_polynomial = polynomial_features.fit_transform(training_data[features])\n",
    "nonlinear_model = LinearRegression()\n",
    "nonlinear_model.fit(x_train_polynomial, training_data[targets])\n",
    "\n",
    "x_test_polynomial = polynomial_features.fit_transform(test_data[features])\n",
    "nonlinear_model_max_demand_predictions = nonlinear_model.predict(x_test_polynomial)\n",
    "\n",
    "print(f\"Non-Linear model R2 score: {r2_score(test_data[targets], nonlinear_model_max_demand_predictions)}\")"
   ]
  },
  {
   "cell_type": "markdown",
   "metadata": {},
   "source": [
    "*The above evaluation shows that the selected features have a non-linear correlation with the target, therefor a polynomial regression is better suited.*"
   ]
  },
  {
   "cell_type": "markdown",
   "metadata": {},
   "source": [
    "**Plot the Predictions vs True Values**"
   ]
  },
  {
   "cell_type": "code",
   "execution_count": null,
   "metadata": {},
   "outputs": [],
   "source": [
    "fig, axes = plt.subplots(1, 2, figsize=(14, 5))\n",
    "\n",
    "axes[0].plot(test_data[features[0]], test_data[targets], label=\"True Values\")\n",
    "axes[0].plot(test_data[features[0]], nonlinear_model_max_demand_predictions, label=\"Predictions\")\n",
    "axes[0].set_xlabel(\"Population\")\n",
    "axes[0].set_ylabel(\"Max_Demand_GW\")\n",
    "axes[0].legend()\n",
    "\n",
    "axes[1].scatter(test_data[features[1]], test_data[targets], label=\"True Values\")\n",
    "axes[1].scatter(test_data[features[1]], nonlinear_model_max_demand_predictions, label=\"Predictions\")\n",
    "axes[1].set_xlabel(\"Average Temperature\")\n",
    "axes[1].set_ylabel(\"Max_Demand_GW\")\n",
    "axes[1].legend()\n",
    "\n",
    "plt.tight_layout()\n",
    "plt.show()"
   ]
  },
  {
   "cell_type": "markdown",
   "metadata": {},
   "source": [
    "**Plot the True Values and Predicted Values of Max Demand over Time**"
   ]
  },
  {
   "cell_type": "code",
   "execution_count": null,
   "metadata": {},
   "outputs": [],
   "source": [
    "# Plot results\n",
    "plt.figure(figsize=(12,6))\n",
    "plt.plot(test_data[\"Date\"], test_data[\"Max_Demand_GW\"], color=\"green\", label=\"True Values\")\n",
    "plt.plot(test_data[\"Date\"], nonlinear_model_max_demand_predictions, color=\"orange\", label=\"Predictions\")\n",
    "plt.xticks(rotation=90)\n",
    "plt.xlabel(\"Date\")\n",
    "plt.ylabel(\"Max_Demand_GW\")\n",
    "plt.legend()\n",
    "plt.show()"
   ]
  },
  {
   "cell_type": "markdown",
   "metadata": {},
   "source": [
    "**Calculating Different Metrics on the Non-Linear Model**  \n",
    "  \n",
    "For MAPE calculation: https://stackoverflow.com/questions/47648133/mape-calculation-in-python"
   ]
  },
  {
   "cell_type": "code",
   "execution_count": null,
   "metadata": {},
   "outputs": [],
   "source": [
    "# Calculating the MSE on the test dataset using the non-linear model\n",
    "mse_test = mean_squared_error(test_data[targets], nonlinear_model_max_demand_predictions)\n",
    "print(f\"Mean Squared Error on test dataset: {mse_test}\")\n",
    "\n",
    "# Calculating the MAE on the test dataset using the non-linear model\n",
    "mae_test= mean_absolute_error(test_data[targets], nonlinear_model_max_demand_predictions)\n",
    "print(f\"\\nMean Absolute Error on test dataset: {mae_test}\")\n",
    "\n",
    "# Calculating the MAPE on the test dataset using the non-linear model\n",
    "def mean_absolute_percentage_error(actual, predictions): \n",
    "    actual, predictions = np.array(actual), np.array(predictions)\n",
    "    return np.mean(np.abs((actual - predictions) / actual)) * 100\n",
    "\n",
    "mape = mean_absolute_percentage_error(test_data[targets], nonlinear_model_max_demand_predictions)\n",
    "print(f\"\\nMAPE on test dataset: {mape:.2f}%\")"
   ]
  },
  {
   "cell_type": "markdown",
   "metadata": {},
   "source": [
    "**Predicting Plant Production from Max Demand Values**"
   ]
  },
  {
   "cell_type": "markdown",
   "metadata": {},
   "source": [
    "**Correlation Evaluation**"
   ]
  },
  {
   "cell_type": "code",
   "execution_count": null,
   "metadata": {},
   "outputs": [],
   "source": [
    "# Combine dataset to see correlation between features & targets\n",
    "full_dataset = pd.concat([training_data, test_data], ignore_index=True)\n",
    "\n",
    "correlation = full_dataset[\"Max_Demand_GW\"].corr(full_dataset[\"Plant_Production_GWh\"])\n",
    "print(f\"Linear Correlation of Max Demand vs Plan Generation: {correlation}\")\n",
    "\n",
    "correlation = (full_dataset[\"Max_Demand_GW\"] ** 2).corr(full_dataset[\"Plant_Production_GWh\"])\n",
    "print(f\"Quadratic Correlation of Max Demand vs Plant Generation: {correlation}\")"
   ]
  },
  {
   "cell_type": "markdown",
   "metadata": {},
   "source": [
    "**Data Visualisation**"
   ]
  },
  {
   "cell_type": "code",
   "execution_count": null,
   "metadata": {},
   "outputs": [],
   "source": [
    "sns.scatterplot(x=\"Max_Demand_GW\", y=\"Plant_Production_GWh\", data=full_dataset)"
   ]
  },
  {
   "cell_type": "markdown",
   "metadata": {},
   "source": [
    "**Linear Regression Model**  \n",
    "  \n",
    "Based on the previous scatter plot the correlation between the feature and target variable is linear, therefor a Linear Regression Model will be applied."
   ]
  },
  {
   "cell_type": "code",
   "execution_count": null,
   "metadata": {},
   "outputs": [],
   "source": [
    "features = [\"Max_Demand_GW\"]\n",
    "targets = [\"Plant_Production_GWh\"]\n",
    "\n",
    "linear_model = LinearRegression()\n",
    "linear_model.fit(training_data[features], training_data[targets])\n",
    "\n",
    "linear_model_plant_production_predictions = linear_model.predict(test_data[features])\n",
    "\n",
    "print(f\"Linear model R2 score: {r2_score(test_data[targets], linear_model_plant_production_predictions)}\")"
   ]
  },
  {
   "cell_type": "markdown",
   "metadata": {},
   "source": [
    "**Plot the Predictions vs True Values**"
   ]
  },
  {
   "cell_type": "code",
   "execution_count": null,
   "metadata": {},
   "outputs": [],
   "source": [
    "plt.scatter(test_data[features], test_data[targets], color=\"blue\", label=\"True Values\")\n",
    "plt.scatter(test_data[features], linear_model_plant_production_predictions, color=\"red\", label=\"Predictions\")\n",
    "plt.xlabel(\"Max_Demand_GW\")\n",
    "plt.ylabel(\"Plant_Generation_GWh\")\n",
    "plt.legend()\n",
    "plt.show()"
   ]
  },
  {
   "cell_type": "markdown",
   "metadata": {},
   "source": [
    "**Calculating Different Metrics on the Linear Model** "
   ]
  },
  {
   "cell_type": "code",
   "execution_count": null,
   "metadata": {},
   "outputs": [],
   "source": [
    "# Calculating the MSE on the test dataset using the linear model\n",
    "mse_test = mean_squared_error(test_data[targets], linear_model_plant_production_predictions)\n",
    "print(f\"Mean Squared Error on test dataset: {mse_test}\")\n",
    "\n",
    "# Calculating the MAE on the test dataset using the linear model\n",
    "mae_test= mean_absolute_error(test_data[targets], linear_model_plant_production_predictions)\n",
    "print(f\"\\nMean Absolute Error on test dataset: {mae_test}\")\n",
    "\n",
    "# Calculating the MAPE on the test dataset using the linear model\n",
    "mape = mean_absolute_percentage_error(test_data[targets], linear_model_plant_production_predictions)\n",
    "print(f\"\\nMAPE on test dataset: {mape:.2f}%\")"
   ]
  },
  {
   "cell_type": "markdown",
   "metadata": {},
   "source": [
    "**Predicting Plant Production from the Predicted Max Demand Over Time**"
   ]
  },
  {
   "cell_type": "code",
   "execution_count": null,
   "metadata": {},
   "outputs": [],
   "source": [
    "plant_production_predictions = linear_model.predict(nonlinear_model_max_demand_predictions)\n",
    "\n",
    "# Plot results\n",
    "plt.figure(figsize=(12,6))\n",
    "plt.plot(test_data[\"Date\"], test_data[\"Plant_Production_GWh\"], color=\"blue\", label=\"True Values\")\n",
    "plt.plot(test_data[\"Date\"], plant_production_predictions, color=\"red\", label=\"Predictions\")\n",
    "plt.xticks(rotation=90)\n",
    "plt.xlabel(\"Date\")\n",
    "plt.ylabel(\"Plant_Generation_GWh\")\n",
    "plt.legend()\n",
    "plt.show()"
   ]
  },
  {
   "cell_type": "markdown",
   "metadata": {},
   "source": [
    "**Calculating Different Metrics of Precicted Plant Production vs Actual Plant Production Over Time**"
   ]
  },
  {
   "cell_type": "code",
   "execution_count": null,
   "metadata": {},
   "outputs": [],
   "source": [
    "# Calculating the MSE on the test dataset using the linear model\n",
    "mse_test = mean_squared_error(test_data[targets], plant_production_predictions)\n",
    "print(f\"Mean Squared Error on test dataset: {mse_test}\")\n",
    "\n",
    "# Calculating the MAE on the test dataset using the linear model\n",
    "mae_test= mean_absolute_error(test_data[targets], plant_production_predictions)\n",
    "print(f\"\\nMean Absolute Error on test dataset: {mae_test}\")\n",
    "\n",
    "# Calculating the MAPE on the test dataset using the linear model\n",
    "mape = mean_absolute_percentage_error(test_data[targets], plant_production_predictions)\n",
    "print(f\"\\nMAPE on test dataset: {mape:.2f}%\")"
   ]
  }
 ],
 "metadata": {
  "kernelspec": {
   "display_name": "aml",
   "language": "python",
   "name": "python3"
  },
  "language_info": {
   "codemirror_mode": {
    "name": "ipython",
    "version": 3
   },
   "file_extension": ".py",
   "mimetype": "text/x-python",
   "name": "python",
   "nbconvert_exporter": "python",
   "pygments_lexer": "ipython3",
   "version": "3.10.13"
  }
 },
 "nbformat": 4,
 "nbformat_minor": 2
}
