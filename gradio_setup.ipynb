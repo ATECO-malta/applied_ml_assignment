{
 "cells": [
  {
   "cell_type": "code",
   "execution_count": 1,
   "metadata": {},
   "outputs": [
    {
     "name": "stderr",
     "output_type": "stream",
     "text": [
      "c:\\Users\\adamd\\.conda\\envs\\tf\\lib\\site-packages\\tqdm\\auto.py:21: TqdmWarning: IProgress not found. Please update jupyter and ipywidgets. See https://ipywidgets.readthedocs.io/en/stable/user_install.html\n",
      "  from .autonotebook import tqdm as notebook_tqdm\n"
     ]
    }
   ],
   "source": [
    "import csv as csv\n",
    "import gradio as gradio\n",
    "import joblib as joblib\n",
    "import numpy as np\n",
    "import pandas as pd\n",
    "from sklearn.linear_model import LinearRegression\n",
    "from sklearn.pipeline import make_pipeline, Pipeline\n",
    "from sklearn.preprocessing import PolynomialFeatures, StandardScaler\n",
    "from sklearn.svm import NuSVR\n",
    "\n",
    "MODEL_PATH = \"./models\""
   ]
  },
  {
   "cell_type": "code",
   "execution_count": 2,
   "metadata": {},
   "outputs": [],
   "source": [
    "training_data = pd.read_csv(\"data/train_data.csv\", index_col=0)\n",
    "test_data = pd.read_csv(\"data/test_data.csv\", index_col=0)\n",
    "\n",
    "features = [\"Plant_Production_GWh\", \"Population_k\", \"tmax\"]\n",
    "target = [\"Max_Demand_GW\"]\n",
    "\n",
    "# MODEL TRAINING\n",
    "# The input features\n",
    "x_train = training_data[features]\n",
    "y_train = training_data[target]\n",
    "\n",
    "x_test = test_data[features]\n",
    "y_test = test_data[target]\n",
    "\n",
    "# Linear Model\n",
    "linear_model = LinearRegression()\n",
    "linear_model.fit(x_train, y_train)\n",
    "\n",
    "# Polynomial Model\n",
    "polynomial_model = make_pipeline(PolynomialFeatures(degree=2), LinearRegression())\n",
    "polynomial_model.fit(x_train, y_train)\n",
    "\n",
    "# EXPORT MODELS AS JOBLIB\n",
    "joblib.dump(linear_model, f\"{MODEL_PATH}/linear_model.joblib\")\n",
    "joblib.dump(polynomial_model, f\"{MODEL_PATH}/polynomial_model.joblib\")\n",
    "\n",
    "loaded_linear_model = joblib.load(f\"{MODEL_PATH}/linear_model.joblib\")\n",
    "loaded_polynomial_model = joblib.load(f\"{MODEL_PATH}/polynomial_model.joblib\")"
   ]
  },
  {
   "cell_type": "code",
   "execution_count": 3,
   "metadata": {},
   "outputs": [],
   "source": [
    "features = [\"Population_k\", \"tavg\"]\n",
    "targets = [\"Max_Demand_GW\"]\n",
    "\n",
    "# MODEL TRAINING\n",
    "# Polynomial Model\n",
    "polynomial_features = PolynomialFeatures(degree=2)\n",
    "\n",
    "x_train_polynomial = polynomial_features.fit_transform(training_data[features])\n",
    "nonlinear_model_v2 = LinearRegression()\n",
    "nonlinear_model_v2.fit(x_train_polynomial, training_data[targets])\n",
    "\n",
    "# Linear Model\n",
    "features = [\"Max_Demand_GW\"]\n",
    "targets = [\"Plant_Production_GWh\"]\n",
    "\n",
    "linear_model_v2 = LinearRegression()\n",
    "linear_model_v2.fit(training_data[features], training_data[targets])\n",
    "\n",
    "# EXPORT MODELS AS JOBLIB\n",
    "joblib.dump(nonlinear_model_v2, f\"{MODEL_PATH}/nonlinear_model_v2.joblib\")\n",
    "joblib.dump(linear_model_v2, f\"{MODEL_PATH}/linear_model_v2.joblib\")\n",
    "\n",
    "loaded_nonlinear_model = joblib.load(f\"{MODEL_PATH}/nonlinear_model_v2.joblib\")\n",
    "loaded_linear_model_v2 = joblib.load(f\"{MODEL_PATH}/linear_model_v2.joblib\")"
   ]
  },
  {
   "cell_type": "code",
   "execution_count": 4,
   "metadata": {},
   "outputs": [],
   "source": [
    "# MODEL TRAINING\n",
    "# SVM\n",
    "svm_features = [\"tmax\", \"Population_k\"]\n",
    "svm_target = [\"Max_Demand_GW\"]\n",
    "\n",
    "feature_ToTrain = training_data[svm_features]\n",
    "target_ToTrain = training_data[svm_target]\n",
    "\n",
    "feature_ToTrain = feature_ToTrain.to_numpy()\n",
    "target_ToTrain = target_ToTrain.to_numpy().ravel()\n",
    "\n",
    "nu_svr_pipeline = Pipeline(\n",
    "    [\n",
    "        (\"scaler\", StandardScaler()),\n",
    "        (\"nu_svr\", NuSVR(nu=0.5589, C=0.01, degree=2, kernel=\"poly\")),\n",
    "    ]\n",
    ")\n",
    "\n",
    "nu_svr_pipeline.fit(feature_ToTrain, target_ToTrain)\n",
    "\n",
    "# EXPORT MODEL AS JOBLIB\n",
    "joblib.dump(nu_svr_pipeline, f\"{MODEL_PATH}/svm.joblib\")\n",
    "loaded_svm_model = joblib.load(f\"{MODEL_PATH}/svm.joblib\")"
   ]
  },
  {
   "cell_type": "markdown",
   "metadata": {},
   "source": [
    "The TCN's architectre and weights were already saved in [nn_model.ipynb](./nn_model.ipynb) - **see** Using the Tensorflow Saved TCN"
   ]
  },
  {
   "cell_type": "code",
   "execution_count": 8,
   "metadata": {},
   "outputs": [
    {
     "name": "stdout",
     "output_type": "stream",
     "text": [
      "Model: \"TCN\"\n",
      "__________________________________________________________________________________________________\n",
      " Layer (type)                   Output Shape         Param #     Connected to                     \n",
      "==================================================================================================\n",
      " input_4 (InputLayer)           [(None, 12, 7)]      0           []                               \n",
      "                                                                                                  \n",
      " Conv1D_1_0 (Conv1D)            (None, 12, 128)      3584        ['input_4[0][0]']                \n",
      "                                                                                                  \n",
      " SpatialDropout1D_1_0 (SpatialD  (None, 12, 128)     0           ['Conv1D_1_0[0][0]']             \n",
      " ropout1D)                                                                                        \n",
      "                                                                                                  \n",
      " Conv1D_2_0 (Conv1D)            (None, 12, 128)      65536       ['SpatialDropout1D_1_0[0][0]']   \n",
      "                                                                                                  \n",
      " SpatialDropout1D_2_0 (SpatialD  (None, 12, 128)     0           ['Conv1D_2_0[0][0]']             \n",
      " ropout1D)                                                                                        \n",
      "                                                                                                  \n",
      " Conv1D_skipconnection_0 (Conv1  (None, 12, 128)     1024        ['input_4[0][0]']                \n",
      " D)                                                                                               \n",
      "                                                                                                  \n",
      " residual_Add_0 (Add)           (None, 12, 128)      0           ['SpatialDropout1D_2_0[0][0]',   \n",
      "                                                                  'Conv1D_skipconnection_0[0][0]']\n",
      "                                                                                                  \n",
      " Conv1D_1_1 (Conv1D)            (None, 12, 128)      65536       ['residual_Add_0[0][0]']         \n",
      "                                                                                                  \n",
      " SpatialDropout1D_1_1 (SpatialD  (None, 12, 128)     0           ['Conv1D_1_1[0][0]']             \n",
      " ropout1D)                                                                                        \n",
      "                                                                                                  \n",
      " Conv1D_2_1 (Conv1D)            (None, 12, 128)      65536       ['SpatialDropout1D_1_1[0][0]']   \n",
      "                                                                                                  \n",
      " SpatialDropout1D_2_1 (SpatialD  (None, 12, 128)     0           ['Conv1D_2_1[0][0]']             \n",
      " ropout1D)                                                                                        \n",
      "                                                                                                  \n",
      " Conv1D_skipconnection_1 (Conv1  (None, 12, 128)     16512       ['residual_Add_0[0][0]']         \n",
      " D)                                                                                               \n",
      "                                                                                                  \n",
      " residual_Add_1 (Add)           (None, 12, 128)      0           ['SpatialDropout1D_2_1[0][0]',   \n",
      "                                                                  'Conv1D_skipconnection_1[0][0]']\n",
      "                                                                                                  \n",
      " Conv1D_1_2 (Conv1D)            (None, 12, 128)      65536       ['residual_Add_1[0][0]']         \n",
      "                                                                                                  \n",
      " SpatialDropout1D_1_2 (SpatialD  (None, 12, 128)     0           ['Conv1D_1_2[0][0]']             \n",
      " ropout1D)                                                                                        \n",
      "                                                                                                  \n",
      " Conv1D_2_2 (Conv1D)            (None, 12, 128)      65536       ['SpatialDropout1D_1_2[0][0]']   \n",
      "                                                                                                  \n",
      " SpatialDropout1D_2_2 (SpatialD  (None, 12, 128)     0           ['Conv1D_2_2[0][0]']             \n",
      " ropout1D)                                                                                        \n",
      "                                                                                                  \n",
      " Conv1D_skipconnection_2 (Conv1  (None, 12, 128)     16512       ['residual_Add_1[0][0]']         \n",
      " D)                                                                                               \n",
      "                                                                                                  \n",
      " residual_Add_2 (Add)           (None, 12, 128)      0           ['SpatialDropout1D_2_2[0][0]',   \n",
      "                                                                  'Conv1D_skipconnection_2[0][0]']\n",
      "                                                                                                  \n",
      " Conv1D_1_3 (Conv1D)            (None, 12, 128)      65536       ['residual_Add_2[0][0]']         \n",
      "                                                                                                  \n",
      " SpatialDropout1D_1_3 (SpatialD  (None, 12, 128)     0           ['Conv1D_1_3[0][0]']             \n",
      " ropout1D)                                                                                        \n",
      "                                                                                                  \n",
      " Conv1D_2_3 (Conv1D)            (None, 12, 128)      65536       ['SpatialDropout1D_1_3[0][0]']   \n",
      "                                                                                                  \n",
      " SpatialDropout1D_2_3 (SpatialD  (None, 12, 128)     0           ['Conv1D_2_3[0][0]']             \n",
      " ropout1D)                                                                                        \n",
      "                                                                                                  \n",
      " Conv1D_skipconnection_3 (Conv1  (None, 12, 128)     16512       ['residual_Add_2[0][0]']         \n",
      " D)                                                                                               \n",
      "                                                                                                  \n",
      " residual_Add_3 (Add)           (None, 12, 128)      0           ['SpatialDropout1D_2_3[0][0]',   \n",
      "                                                                  'Conv1D_skipconnection_3[0][0]']\n",
      "                                                                                                  \n",
      " lambda_last_timestep (Lambda)  (None, 1)            0           ['residual_Add_3[0][0]']         \n",
      "                                                                                                  \n",
      " Dense_singleoutput (Dense)     (None, 1)            2           ['lambda_last_timestep[0][0]']   \n",
      "                                                                                                  \n",
      "==================================================================================================\n",
      "Total params: 512,898\n",
      "Trainable params: 512,898\n",
      "Non-trainable params: 0\n",
      "__________________________________________________________________________________________________\n"
     ]
    }
   ],
   "source": [
    "from tensorflow.keras.models import load_model\n",
    "from tensorflow.keras import *\n",
    "\n",
    "val_model = load_model(f\"{MODEL_PATH}/tcn\")\n",
    "val_model.summary()"
   ]
  },
  {
   "cell_type": "code",
   "execution_count": 10,
   "metadata": {},
   "outputs": [
    {
     "name": "stderr",
     "output_type": "stream",
     "text": [
      "WARNING:absl:Found untraced functions such as _jit_compiled_convolution_op, _jit_compiled_convolution_op, _jit_compiled_convolution_op, _jit_compiled_convolution_op, _jit_compiled_convolution_op while saving (showing 5 of 12). These functions will not be directly callable after loading.\n"
     ]
    },
    {
     "name": "stdout",
     "output_type": "stream",
     "text": [
      "INFO:tensorflow:Assets written to: ram://5c349f8b-22e9-4469-80a6-d1afb8b72236/assets\n"
     ]
    },
    {
     "name": "stderr",
     "output_type": "stream",
     "text": [
      "INFO:tensorflow:Assets written to: ram://5c349f8b-22e9-4469-80a6-d1afb8b72236/assets\n"
     ]
    },
    {
     "name": "stdout",
     "output_type": "stream",
     "text": [
      "Unsuccessful TensorSliceReader constructor: Failed to find any matching files for ram://871215ce-2a85-4e26-b5d4-8a69aaa6352e/variables/variables\n",
      " You may be trying to load on a different device from the computational device. Consider setting the `experimental_io_device` option in `tf.saved_model.LoadOptions` to the io_device such as '/job:localhost'.\n"
     ]
    }
   ],
   "source": [
    "from joblib import dump, load\n",
    "\n",
    "try:\n",
    "    dump(val_model, f\"{MODEL_PATH}/tcn.joblib\")\n",
    "    val_model_jl = load(f\"{MODEL_PATH}/tcn.joblib\")\n",
    "\n",
    "    val_model_jl.summary()\n",
    "except Exception as e:\n",
    "    print(e)"
   ]
  }
 ],
 "metadata": {
  "kernelspec": {
   "display_name": "aml",
   "language": "python",
   "name": "python3"
  },
  "language_info": {
   "codemirror_mode": {
    "name": "ipython",
    "version": 3
   },
   "file_extension": ".py",
   "mimetype": "text/x-python",
   "name": "python",
   "nbconvert_exporter": "python",
   "pygments_lexer": "ipython3",
   "version": "3.10.13"
  }
 },
 "nbformat": 4,
 "nbformat_minor": 2
}
