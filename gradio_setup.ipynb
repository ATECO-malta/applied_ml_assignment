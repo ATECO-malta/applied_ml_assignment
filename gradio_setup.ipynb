{
 "cells": [
  {
   "cell_type": "code",
   "execution_count": 7,
   "metadata": {},
   "outputs": [],
   "source": [
    "import csv as csv\n",
    "import gradio as gradio\n",
    "import joblib as joblib\n",
    "import numpy as np\n",
    "import pandas as pd\n",
    "from sklearn.linear_model import LinearRegression\n",
    "from sklearn.pipeline import make_pipeline, Pipeline\n",
    "from sklearn.preprocessing import PolynomialFeatures, StandardScaler\n",
    "from sklearn.svm import NuSVR"
   ]
  },
  {
   "cell_type": "code",
   "execution_count": 4,
   "metadata": {},
   "outputs": [],
   "source": [
    "training_data = pd.read_csv(\"data/train_data.csv\", index_col=0)\n",
    "test_data = pd.read_csv(\"data/test_data.csv\", index_col=0)\n",
    "\n",
    "features = [\"Plant_Production_GWh\", \"Population_k\", \"tmax\"]\n",
    "target = [\"Max_Demand_GW\"]\n",
    "\n",
    "# MODEL TRAINING\n",
    "# The input features\n",
    "x_train = training_data[features]\n",
    "y_train = training_data[target]\n",
    "\n",
    "x_test = test_data[features]\n",
    "y_test = test_data[target]\n",
    "\n",
    "# Linear Model\n",
    "linear_model = LinearRegression()\n",
    "linear_model.fit(x_train, y_train)\n",
    "\n",
    "# Polynomial Model\n",
    "polynomial_model = make_pipeline(PolynomialFeatures(degree=2), LinearRegression())\n",
    "polynomial_model.fit(x_train, y_train)\n",
    "\n",
    "# EXPORT MODELS AS JOBLIB\n",
    "joblib.dump(linear_model, \"linear_model.joblib\")\n",
    "joblib.dump(polynomial_model, \"polynomial_model.joblib\")\n",
    "\n",
    "loaded_linear_model = joblib.load(\"linear_model.joblib\")\n",
    "loaded_polynomial_model = joblib.load(\"polynomial_model.joblib\")"
   ]
  },
  {
   "cell_type": "code",
   "execution_count": 5,
   "metadata": {},
   "outputs": [],
   "source": [
    "features = [\"Population_k\", \"tavg\"]\n",
    "targets = [\"Max_Demand_GW\"]\n",
    "\n",
    "# MODEL TRAINING\n",
    "# Polynomial Model\n",
    "polynomial_features = PolynomialFeatures(degree=2)\n",
    "\n",
    "x_train_polynomial = polynomial_features.fit_transform(training_data[features])\n",
    "nonlinear_model_v2 = LinearRegression()\n",
    "nonlinear_model_v2.fit(x_train_polynomial, training_data[targets])\n",
    "\n",
    "# Linear Model\n",
    "features = [\"Max_Demand_GW\"]\n",
    "targets = [\"Plant_Production_GWh\"]\n",
    "\n",
    "linear_model_v2 = LinearRegression()\n",
    "linear_model_v2.fit(training_data[features], training_data[targets])\n",
    "\n",
    "# EXPORT MODELS AS JOBLIB\n",
    "joblib.dump(nonlinear_model_v2, \"nonlinear_model_v2.joblib\")\n",
    "joblib.dump(linear_model_v2, \"linear_model_v2.joblib\")\n",
    "\n",
    "loaded_nonlinear_model = joblib.load(\"nonlinear_model_v2.joblib\")\n",
    "loaded_linear_model_v2 = joblib.load(\"linear_model_v2.joblib\")"
   ]
  },
  {
   "cell_type": "code",
   "execution_count": 6,
   "metadata": {},
   "outputs": [],
   "source": [
    "# MODEL TRAINING\n",
    "# SVM\n",
    "svm_features = [\"tmax\", \"Population_k\"]\n",
    "svm_target = [\"Max_Demand_GW\"]  \n",
    "\n",
    "feature_ToTrain = training_data[svm_features]\n",
    "target_ToTrain = training_data[svm_target]\n",
    "\n",
    "feature_ToTrain = feature_ToTrain.to_numpy()\n",
    "target_ToTrain = target_ToTrain.to_numpy().ravel()\n",
    "\n",
    "nu_svr_pipeline = Pipeline([\n",
    "    (\"scaler\", StandardScaler()), \n",
    "    (\"nu_svr\", NuSVR(nu=0.5589, C=0.01, degree=2 ,kernel='poly')) \n",
    "])\n",
    "\n",
    "nu_svr_pipeline.fit(feature_ToTrain, target_ToTrain)\n",
    "\n",
    "# EXPORT MODEL AS JOBLIB\n",
    "joblib.dump(nu_svr_pipeline, \"svm.joblib\")\n",
    "\n",
    "loaded_svm_model = joblib.load(\"svm.joblib\")"
   ]
  }
 ],
 "metadata": {
  "kernelspec": {
   "display_name": "aml",
   "language": "python",
   "name": "python3"
  },
  "language_info": {
   "codemirror_mode": {
    "name": "ipython",
    "version": 3
   },
   "file_extension": ".py",
   "mimetype": "text/x-python",
   "name": "python",
   "nbconvert_exporter": "python",
   "pygments_lexer": "ipython3",
   "version": "3.10.13"
  }
 },
 "nbformat": 4,
 "nbformat_minor": 2
}
