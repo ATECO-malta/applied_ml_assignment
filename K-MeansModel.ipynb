{
 "cells": [
  {
   "cell_type": "markdown",
   "id": "bb284925",
   "metadata": {},
   "source": [
    "# K-Means Clustering"
   ]
  },
  {
   "cell_type": "markdown",
   "id": "ab2fb753",
   "metadata": {},
   "source": [
    "*Chat GPT Prompt: You are a professor teaching a group of Masters students with limited Machine Learning knowledge. In a couple of sentences, tell them what K-Means Clustering does and where it is used*\n",
    "\n",
    "K-Means Clustering is a machine learning algorithm that partitions a dataset into K distinct, non-overlapping subsets (clusters) based on the similarity of data points. It aims to minimize the variance within each cluster while maximizing the variance between clusters. \n",
    "\n",
    "*Chat GPT Prompt: We will use K-Means clustering to get an output category based on some inputs. Briefly explain this to them in a couple of sentences*\n",
    "\n",
    "In this application of K-Means clustering, we input data points without predefined categories, and the algorithm autonomously groups them into distinct clusters based on similarity. Each cluster represents a potential output category, enabling us to identify patterns and assign input data to specific groups, facilitating categorization and analysis in an unsupervised manner."
   ]
  },
  {
   "cell_type": "markdown",
   "id": "23fd9c2b",
   "metadata": {},
   "source": [
    "## Choosing the value of K"
   ]
  },
  {
   "cell_type": "markdown",
   "id": "5a5f000e",
   "metadata": {},
   "source": [
    "To choose the value of K, we can either apply the formula:\n",
    "\n",
    "$ k=\\sqrt{n} $ where $ n $ is the number of samples,\n",
    "\n",
    "or test the technique using different values of K, plotting the total variation for each value of K. The ultimate value for K would be at the elbow of plot, where there is not much increased variation for a new value of K."
   ]
  },
  {
   "cell_type": "markdown",
   "id": "fdaf7068",
   "metadata": {},
   "source": [
    "## Loading the data set"
   ]
  },
  {
   "cell_type": "code",
   "execution_count": 1,
   "id": "31cf7615",
   "metadata": {},
   "outputs": [],
   "source": [
    "# Import necessary libraries\n",
    "import pandas as pd\n",
    "from sklearn.cluster import KMeans\n",
    "from sklearn.metrics import silhouette_score\n",
    "from sklearn.preprocessing import PolynomialFeatures\n",
    "import matplotlib.pyplot as plt\n",
    "from mpl_toolkits.mplot3d import Axes3D"
   ]
  },
  {
   "cell_type": "code",
   "execution_count": 2,
   "id": "a688b386",
   "metadata": {},
   "outputs": [],
   "source": [
    "# Load the datasets\n",
    "train_data = pd.read_csv('data/train_data.csv')\n",
    "test_data = pd.read_csv('data/test_data.csv')\n",
    "validate_data = pd.read_csv('data/validate_data.csv')"
   ]
  },
  {
   "cell_type": "code",
   "execution_count": 3,
   "id": "b9cf42cd",
   "metadata": {},
   "outputs": [],
   "source": [
    "# Add together Plant Production, Imports and Renewables production to get total output to the grid\n",
    "train_data_prod = train_data['Plant_Production_GWh'] + train_data ['Imports_GWh'] + train_data['Renewables_Production_GWh']\n",
    "train_data_prod = pd.DataFrame(train_data_prod, columns= ['Grid_Output'])\n",
    "test_data_prod = test_data['Plant_Production_GWh'] + test_data ['Imports_GWh'] + test_data['Renewables_Production_GWh']\n",
    "test_data_prod = pd.DataFrame(test_data_prod, columns= ['Grid_Output'])\n",
    "validate_data_prod = validate_data['Plant_Production_GWh'] + validate_data ['Imports_GWh'] + validate_data['Renewables_Production_GWh']\n",
    "validate_data_prod = pd.DataFrame(validate_data_prod, columns= ['Grid_Output'])\n",
    "\n",
    "# print(train_data_prod)"
   ]
  },
  {
   "cell_type": "code",
   "execution_count": 4,
   "id": "1f57eae6",
   "metadata": {},
   "outputs": [],
   "source": [
    "# Get the month from the date column to use as an additional feature and add it to the testing and validation set\n",
    "train_data['Date'] = pd.to_datetime(train_data['Date'])\n",
    "train_data['Month'] = train_data['Date'].dt.month\n",
    "\n",
    "test_data['Date'] = pd.to_datetime(test_data['Date'])\n",
    "test_data['Month'] = test_data['Date'].dt.month\n",
    "\n",
    "validate_data['Date'] = pd.to_datetime(validate_data['Date'])\n",
    "validate_data['Month'] = validate_data['Date'].dt.month"
   ]
  },
  {
   "cell_type": "code",
   "execution_count": 5,
   "id": "ce489796",
   "metadata": {},
   "outputs": [],
   "source": [
    "def z_score_normalisation(train_data, test_data, val_data):\n",
    "    # Calculate mean and standard deviation using the training set\n",
    "    mean = train_data.mean()\n",
    "    std_dev = train_data.std()\n",
    "\n",
    "    # Apply Z-score normalisation to each set\n",
    "    normalised_train_data = (train_data - mean) / std_dev\n",
    "    normalised_test_data = (test_data - mean) / std_dev\n",
    "    normalised_val_data = (val_data - mean) / std_dev\n",
    "\n",
    "    return normalised_train_data, normalised_test_data, normalised_val_data"
   ]
  },
  {
   "cell_type": "code",
   "execution_count": 6,
   "id": "7a427341",
   "metadata": {},
   "outputs": [
    {
     "name": "stdout",
     "output_type": "stream",
     "text": [
      "     Grid_Output      tmax  Max_Demand_GW\n",
      "0         191.50 -1.143007           0.36\n",
      "1         183.60 -1.283832           0.37\n",
      "2         178.96 -1.002181           0.34\n",
      "3         172.61 -0.438881           0.32\n",
      "4         179.50  0.054006           0.32\n",
      "..           ...       ...            ...\n",
      "120       300.18 -1.143007           0.37\n",
      "121       236.89 -1.354244           0.41\n",
      "122       289.10 -0.861356           0.36\n",
      "123       282.57 -0.377270           0.33\n",
      "124       253.08  0.106816           0.34\n",
      "\n",
      "[125 rows x 3 columns]\n"
     ]
    }
   ],
   "source": [
    "# Select relevant features for clustering\n",
    "data_features = ['tmax', 'Max_Demand_GW']\n",
    "\n",
    "#Normalise the temperature values\n",
    "train_data['tmax'], test_data['tmax'], validate_data['tmax'] = z_score_normalisation(\n",
    "    train_data['tmax'], test_data['tmax'], validate_data['tmax'])\n",
    "    \n",
    "train_features = pd.concat([train_data_prod, train_data[data_features]], axis = 1)\n",
    "test_features = pd.concat([test_data_prod, test_data[data_features]], axis = 1)\n",
    "validate_features = pd.concat([validate_data_prod, validate_data[data_features]], axis = 1)\n",
    "\n",
    "# Normalise all the data\n",
    "# train_features, test_features, validate_features = z_score_normalisation(train_features, test_features, validate_features)\n",
    "\n",
    "print(train_features)"
   ]
  },
  {
   "cell_type": "code",
   "execution_count": 7,
   "id": "ca897b4e",
   "metadata": {},
   "outputs": [
    {
     "name": "stderr",
     "output_type": "stream",
     "text": [
      "C:\\Users\\erika\\anaconda3\\envs\\ICS5110-Assmt-20231118\\lib\\site-packages\\sklearn\\cluster\\_kmeans.py:1412: FutureWarning: The default value of `n_init` will change from 10 to 'auto' in 1.4. Set the value of `n_init` explicitly to suppress the warning\n",
      "  super()._check_params_vs_input(X, default_n_init=10)\n",
      "C:\\Users\\erika\\anaconda3\\envs\\ICS5110-Assmt-20231118\\lib\\site-packages\\sklearn\\cluster\\_kmeans.py:1436: UserWarning: KMeans is known to have a memory leak on Windows with MKL, when there are less chunks than available threads. You can avoid it by setting the environment variable OMP_NUM_THREADS=1.\n",
      "  warnings.warn(\n"
     ]
    },
    {
     "name": "stdout",
     "output_type": "stream",
     "text": [
      "Silhouette Score for Training Data: 0.5842357814564039\n"
     ]
    }
   ],
   "source": [
    "# Apply K-Means clustering to training data\n",
    "clustersK = 5\n",
    "kmeans = KMeans(n_clusters=clustersK, random_state=42)  # Adjust the number of clusters as needed\n",
    "train_clusters = kmeans.fit_predict(train_features)\n",
    "\n",
    "# Validate the clustering with silhouette score\n",
    "silhouette_avg = silhouette_score(train_features, train_clusters)\n",
    "print(f'Silhouette Score for Training Data: {silhouette_avg}')"
   ]
  },
  {
   "cell_type": "code",
   "execution_count": 8,
   "id": "63037cc2",
   "metadata": {
    "scrolled": false
   },
   "outputs": [
    {
     "data": {
      "image/png": "[encoded data removed]",
      "text/plain": [
       "<Figure size 640x480 with 1 Axes>"
      ]
     },
     "metadata": {},
     "output_type": "display_data"
    }
   ],
   "source": [
    "# Visualize the clusters in 2D\n",
    "plt.scatter(train_features['Grid_Output'], train_features['tmax'], c=train_clusters, cmap='viridis')\n",
    "plt.title('K-Means Clustering - Training Data')\n",
    "plt.xlabel('Grid_Output')\n",
    "plt.ylabel('tmax')\n",
    "plt.show()"
   ]
  },
  {
   "cell_type": "markdown",
   "id": "ae0a9fd3",
   "metadata": {
    "scrolled": false
   },
   "source": [
    "# Visualize the clusters in 2D\n",
    "plt.scatter(train_features['Month'], train_features['tmax'], c=train_clusters, cmap='viridis')\n",
    "plt.title('K-Means Clustering - Training Data')\n",
    "plt.xlabel('Month')\n",
    "plt.ylabel('tmax')\n",
    "plt.show()"
   ]
  },
  {
   "cell_type": "markdown",
   "id": "29391fb3",
   "metadata": {},
   "source": [
    "# Visualize the clusters in 3D (example with three features)\n",
    "fig = plt.figure(figsize=(10, 8))\n",
    "ax = fig.add_subplot(111, projection='3d')\n",
    "scatter = ax.scatter(train_features['Grid_Output'], train_features['Population_k'], train_features['tmax'], c=train_clusters, cmap='viridis')\n",
    "\n",
    "ax.set_title('K-Means Clustering - Training Data (3D)')\n",
    "ax.set_xlabel('Grid_Output_GWh')\n",
    "ax.set_ylabel('Population_k')\n",
    "ax.set_zlabel('tmax')\n",
    "\n",
    "# Add colorbar\n",
    "cb = plt.colorbar(scatter)\n",
    "cb.set_label('Cluster')\n",
    "\n",
    "plt.show()"
   ]
  },
  {
   "cell_type": "code",
   "execution_count": 9,
   "id": "ff6f7d31",
   "metadata": {},
   "outputs": [
    {
     "name": "stdout",
     "output_type": "stream",
     "text": [
      "Unique Clusters in Validation Data: {1, 2, 3, 4}\n"
     ]
    }
   ],
   "source": [
    "# Validate the clustering on the validation set\n",
    "validate_clusters = kmeans.predict(validate_features)\n",
    "\n",
    "# Validate the clustering on the test set\n",
    "test_clusters = kmeans.predict(test_features)\n",
    "\n",
    "# Check the unique values in validate_clusters\n",
    "unique_clusters = set(validate_clusters)\n",
    "print(f'Unique Clusters in Validation Data: {unique_clusters}')\n",
    "\n",
    "# If there is only one unique cluster, you may need to adjust the number of clusters in KMeans\n",
    "\n",
    "# Save the labeled datasets\n",
    "train_data.to_csv('labeled_train_data.csv', index=False)\n",
    "test_data.to_csv('labeled_test_data.csv', index=False)\n",
    "validate_data.to_csv('labeled_validate_data.csv', index=False)\n",
    "\n",
    "# Save the cluster labels for the test and validation sets\n",
    "test_data_with_clusters = pd.concat([test_data, pd.DataFrame({'Cluster': test_clusters})], axis=1)\n",
    "test_data_with_clusters.to_csv('test_data_with_clusters.csv', index=False)\n",
    "\n",
    "validate_data_with_clusters = pd.concat([validate_data, pd.DataFrame({'Cluster': validate_clusters})], axis=1)\n",
    "validate_data_with_clusters.to_csv('validate_data_with_clusters.csv', index=False)\n",
    "\n",
    "train_data_with_clusters = pd.concat([train_data, pd.DataFrame({'Cluster': train_clusters})], axis=1)\n",
    "train_data_with_clusters.to_csv('train_data_with_clusters.csv', index=False)"
   ]
  },
  {
   "cell_type": "code",
   "execution_count": 10,
   "id": "a4a79d1f",
   "metadata": {},
   "outputs": [
    {
     "name": "stdout",
     "output_type": "stream",
     "text": [
      "Data included:  ['Grid_Output', 'tmax', 'Max_Demand_GW']\n",
      "Number of clusters K: 5\n",
      "Unique Clusters in Validation Data: {1, 2, 3, 4}\n",
      "Silhouette Score for Training Data: 0.5842357814564039\n"
     ]
    }
   ],
   "source": [
    "print('Data included: ',list(train_features.columns.values))\n",
    "print(f'Number of clusters K: {clustersK}')\n",
    "print(f'Unique Clusters in Validation Data: {unique_clusters}')\n",
    "print(f'Silhouette Score for Training Data: {silhouette_avg}')"
   ]
  },
  {
   "cell_type": "markdown",
   "id": "6bbf1a08",
   "metadata": {},
   "source": [
    "# Normalisation using Min Max Scaling\n",
    "\n",
    "## Normalize the data\n",
    "scaler = MinMaxScaler()\n",
    "\n",
    "## Fit the scaler onto the training set\n",
    "scaler.fit(train_data[data_features])\n",
    "\n",
    "## Transform the feature columns in the training, validation, and test sets\n",
    "train_data_normalized = pd.DataFrame(scaler.transform(train_data[data_features]), columns = data_features)\n",
    "test_data_normalized = pd.DataFrame(scaler.transform(test_data[data_features]), columns = data_features)\n",
    "val_data_normalized = pd.DataFrame(scaler.transform(validate_data[data_features]), columns = data_features)\n",
    "\n",
    "train_features = pd.concat([train_data_prod, train_data_normalized], axis = 1)\n",
    "test_features = pd.concat([test_data_prod, test_data_normalized], axis = 1)\n",
    "validate_features = pd.concat([validate_data_prod, val_data_normalized], axis = 1)\n",
    "\n",
    "## print(train_features, test_features, validate_features)\n",
    "print(train_features)"
   ]
  }
 ],
 "metadata": {
  "kernelspec": {
   "display_name": "Python 3 (ipykernel)",
   "language": "python",
   "name": "python3"
  },
  "language_info": {
   "codemirror_mode": {
    "name": "ipython",
    "version": 3
   },
   "file_extension": ".py",
   "mimetype": "text/x-python",
   "name": "python",
   "nbconvert_exporter": "python",
   "pygments_lexer": "ipython3",
   "version": "3.10.13"
  }
 },
 "nbformat": 4,
 "nbformat_minor": 5
}
